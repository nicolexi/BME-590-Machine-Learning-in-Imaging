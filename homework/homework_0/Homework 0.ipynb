{
 "cells": [
  {
   "cell_type": "markdown",
   "metadata": {},
   "source": [
    "# Introduction\n",
    "\n",
    "Demonstrate your skill of markdown  \n",
    "**[markdown cheat sheet](https://github.com/adam-p/markdown-here/wiki/Markdown-Cheatsheet)**\n"
   ]
  },
  {
   "cell_type": "markdown",
   "metadata": {},
   "source": [
    "### About me\n",
    "\n"
   ]
  },
  {
   "cell_type": "markdown",
   "metadata": {},
   "source": [
    "My name is Xi Yang and I'm from China. I am a first year M.S. student in BME at Duke. "
   ]
  },
  {
   "cell_type": "markdown",
   "metadata": {},
   "source": [
    "### My Hobbies Ranked\n",
    "\n",
    "1. Reading novels\n",
    "2. Fashion designing and drawing\n",
    "3. Travel"
   ]
  },
  {
   "cell_type": "markdown",
   "metadata": {},
   "source": [
    "```python\n",
    "import numpy as np\n",
    "def fibonacci(n):\n",
    "    # pseudo code printing the fibonacci sequence in markdown\n",
    "    fn = np.zeros((n,))\n",
    "    fn[0] = 1\n",
    "    fn[1] = 1\n",
    "    count = 0\n",
    "    while (n>2 and count < n-2):\n",
    "        fn[count+2] = fn[count] + fn[count+1]\n",
    "        count = count +1\n",
    "    print(fn, sep = ',', end = '\\n')\n",
    "    return   \n",
    "```"
   ]
  },
  {
   "cell_type": "code",
   "execution_count": 1,
   "metadata": {},
   "outputs": [
    {
     "name": "stdout",
     "output_type": "stream",
     "text": [
      "[ 1.  1.  2.  3.  5.  8. 13. 21.]\n"
     ]
    }
   ],
   "source": [
    "# See if it works in python3 (doesn't have to)\n",
    "import numpy as np\n",
    "def fibonacci(n):\n",
    "    # pseudo code printing the fibonacci sequence in markdown\n",
    "    fn = np.zeros((n,))\n",
    "    fn[0] = 1\n",
    "    fn[1] = 1\n",
    "    count = 0\n",
    "    while (n>2 and count < n-2):\n",
    "        fn[count+2] = fn[count] + fn[count+1]\n",
    "        count = count +1\n",
    "    print(fn, sep = ',', end = '\\n')\n",
    "    return\n",
    "    \n",
    "fibonacci(8)"
   ]
  },
  {
   "cell_type": "markdown",
   "metadata": {},
   "source": [
    "# Link your favorite Youtube video\n",
    "\n",
    "<a href=\"https://www.youtube.com/watch?v=wFHoB1tnWmg&t=3536s\n",
    "\" target=\"_blank\"><img src=\"https://img.youtube.com/vi/v=wFHoB1tnWmg&t=3536s/0.jpg\" \n",
    "alt=\"Songs for running\" width=\"240\" height=\"180\" border=\"10\" /></a>"
   ]
  }
 ],
 "metadata": {
  "kernelspec": {
   "display_name": "Python 3",
   "language": "python",
   "name": "python3"
  },
  "language_info": {
   "codemirror_mode": {
    "name": "ipython",
    "version": 3
   },
   "file_extension": ".py",
   "mimetype": "text/x-python",
   "name": "python",
   "nbconvert_exporter": "python",
   "pygments_lexer": "ipython3",
   "version": "3.7.1"
  }
 },
 "nbformat": 4,
 "nbformat_minor": 2
}
